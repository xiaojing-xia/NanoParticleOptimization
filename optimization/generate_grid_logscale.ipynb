{
 "cells": [
  {
   "cell_type": "code",
   "execution_count": 1,
   "id": "1b582e39",
   "metadata": {},
   "outputs": [],
   "source": [
    "import pandas as pd\n",
    "import numpy as np\n",
    "import matplotlib.pyplot as plt\n",
    "from random import randrange\n",
    "import torch\n",
    "import pickle\n",
    "\n",
    "range_radius = np.arange(5,34,2)\n",
    "conc_log_interval = 0.05\n",
    "range_log = np.linspace(-3,0,int(3/conc_log_interval))\n",
    "range_yb = 10**range_log\n",
    "range_yb = np.insert(range_yb, 0, 0)\n",
    "range_er = range_yb"
   ]
  },
  {
   "cell_type": "code",
   "execution_count": 4,
   "id": "44bd15da",
   "metadata": {},
   "outputs": [
    {
     "data": {
      "text/plain": [
       "array([0.        , 0.001     , 0.00112421, 0.00126385, 0.00142083,\n",
       "       0.00159731, 0.00179571, 0.00201876, 0.00226951, 0.00255141,\n",
       "       0.00286832, 0.00322459, 0.00362512, 0.00407539, 0.0045816 ,\n",
       "       0.00515068, 0.00579044, 0.00650968, 0.00731824, 0.00822724,\n",
       "       0.00924915, 0.01039798, 0.01168952, 0.01314147, 0.01477378,\n",
       "       0.01660883, 0.01867181, 0.02099104, 0.02359833, 0.02652948,\n",
       "       0.02982471, 0.03352924, 0.03769391, 0.04237587, 0.04763938,\n",
       "       0.05355667, 0.06020894, 0.0676875 , 0.07609497, 0.08554673,\n",
       "       0.09617249, 0.10811808, 0.12154743, 0.13664483, 0.15361749,\n",
       "       0.17269833, 0.19414919, 0.21826447, 0.24537511, 0.27585316,\n",
       "       0.31011689, 0.34863652, 0.39194068, 0.44062364, 0.49535352,\n",
       "       0.5568814 , 0.62605166, 0.70381356, 0.79123426, 0.8895135 ,\n",
       "       1.        ])"
      ]
     },
     "execution_count": 4,
     "metadata": {},
     "output_type": "execute_result"
    }
   ],
   "source": [
    "range_yb"
   ]
  },
  {
   "cell_type": "code",
   "execution_count": 3,
   "id": "b56e7297",
   "metadata": {},
   "outputs": [
    {
     "data": {
      "text/plain": [
       "61"
      ]
     },
     "execution_count": 3,
     "metadata": {},
     "output_type": "execute_result"
    }
   ],
   "source": [
    "len(range_yb)"
   ]
  },
  {
   "cell_type": "code",
   "execution_count": 3,
   "id": "e79413d3",
   "metadata": {},
   "outputs": [],
   "source": [
    "# the function to generate log scale 5d grid\n",
    "# Already encoded. Ready for GP\n",
    "def generate_loggrid_encoded(range_radius,range_yb, range_er):\n",
    "    pool = []\n",
    "    for r in range_radius:\n",
    "        print(f'radius = {r}')\n",
    "        for yb1 in range_yb:\n",
    "            #print(f'sum1 = {i}')\n",
    "            for er1 in range_er:\n",
    "                if yb1+er1>1:\n",
    "                    pass\n",
    "                else:          \n",
    "                    for yb2 in range_yb:\n",
    "                        for er2 in range_er:\n",
    "                            if yb2+er2>1:\n",
    "                                pass\n",
    "                            else:\n",
    "                                sum1 = yb1+er1\n",
    "                                sum2 = yb2+er2\n",
    "                                if sum1 == 0:\n",
    "                                    ratio1 = 0.5\n",
    "                                else:\n",
    "                                    ratio1 = yb1/sum1\n",
    "                                if sum2 == 0:\n",
    "                                    ratio2 = 0.5\n",
    "                                else:\n",
    "                                    ratio2 = yb2/sum2\n",
    "                                pool.append([sum1, ratio1, sum2, ratio2, r/34])\n",
    "    return pool"
   ]
  },
  {
   "cell_type": "code",
   "execution_count": 4,
   "id": "b339d38d",
   "metadata": {},
   "outputs": [
    {
     "name": "stdout",
     "output_type": "stream",
     "text": [
      "radius = 5\n",
      "radius = 7\n",
      "radius = 9\n",
      "radius = 11\n",
      "radius = 13\n",
      "radius = 15\n",
      "radius = 17\n",
      "radius = 19\n",
      "radius = 21\n",
      "radius = 23\n",
      "radius = 25\n",
      "radius = 27\n",
      "radius = 29\n",
      "radius = 31\n",
      "radius = 33\n"
     ]
    }
   ],
   "source": [
    "pool = generate_loggrid_encoded(range_radius,range_yb, range_er)"
   ]
  },
  {
   "cell_type": "code",
   "execution_count": 10,
   "id": "16c1169b",
   "metadata": {},
   "outputs": [],
   "source": [
    "# Save the pool\n",
    "pool = torch.FloatTensor(pool)\n",
    "pickle.dump(pool, open( \"NP_pool_medium_logconc_radi2_185539335NP_encoded.pkl\", \"wb\" ) )"
   ]
  },
  {
   "cell_type": "code",
   "execution_count": null,
   "id": "670ab1d2",
   "metadata": {},
   "outputs": [],
   "source": [
    "# Check the decided grid. Optional.\n",
    "# Could be time consuming if the grid is large.\n",
    "def decode_candidates(x_arr, x_max = 34):\n",
    "    '''decode botorch recommendation candidates for simulation'''\n",
    "    for i, arr in enumerate(x_arr):\n",
    "        x_arr[i, 0], x_arr[i, 1] = arr[0] * arr[1], arr[0] * (1 - arr[1])\n",
    "        x_arr[i, 2], x_arr[i, 3] = arr[2] * arr[3], arr[2] * (1 - arr[3])\n",
    "        x_arr[i, 4] = arr[4] * x_max\n",
    "decode_candidates(pool)\n",
    "pool"
   ]
  },
  {
   "cell_type": "code",
   "execution_count": 10,
   "id": "ba610b7f",
   "metadata": {},
   "outputs": [],
   "source": [
    "pool = pickle.load( open( \"../saved_data/NP_pool_medium_logconc_radi2_185539335NP_encoded.pkl\", \"rb\" ) )\n"
   ]
  },
  {
   "cell_type": "code",
   "execution_count": null,
   "id": "bad2173b",
   "metadata": {},
   "outputs": [
    {
     "data": {
      "text/plain": [
       "Text(0.5, 0, 'Normalized Core Radius')"
      ]
     },
     "execution_count": 11,
     "metadata": {},
     "output_type": "execute_result"
    }
   ],
   "source": [
    "from matplotlib import cm\n",
    "from mpl_toolkits.axes_grid1 import make_axes_locatable\n",
    "\n",
    "fig,ax = plt.subplots(1, 1, figsize=(10, 10), subplot_kw={'projection': '3d'})\n",
    "p = ax.scatter(pool[:,0],pool[:,2],\n",
    "               pool[:,4], s=2,alpha=1)\n",
    "ax.view_init(20,250)\n",
    "# ax.set_xlim([0,1])\n",
    "# ax.set_ylim([0,1])\n",
    "# ax.set_zlim([5,34])\n",
    "ax.set_xlabel(\"Core Concentration\", fontsize=14)\n",
    "ax.set_ylabel(\"Shell Concentration\", fontsize=14)\n",
    "ax.set_zlabel(\"Normalized Core Radius\", fontsize=14)\n",
    "  "
   ]
  }
 ],
 "metadata": {
  "kernelspec": {
   "display_name": "Python 3 (ipykernel)",
   "language": "python",
   "name": "python3"
  },
  "language_info": {
   "codemirror_mode": {
    "name": "ipython",
    "version": 3
   },
   "file_extension": ".py",
   "mimetype": "text/x-python",
   "name": "python",
   "nbconvert_exporter": "python",
   "pygments_lexer": "ipython3",
   "version": "3.9.7"
  }
 },
 "nbformat": 4,
 "nbformat_minor": 5
}
