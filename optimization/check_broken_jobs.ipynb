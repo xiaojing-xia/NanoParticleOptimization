{
 "cells": [
  {
   "cell_type": "code",
   "execution_count": 2,
   "id": "b036b655",
   "metadata": {},
   "outputs": [],
   "source": [
    "import pandas as pd\n"
   ]
  },
  {
   "cell_type": "code",
   "execution_count": 11,
   "id": "7d7618a0",
   "metadata": {},
   "outputs": [
    {
     "data": {
      "text/plain": [
       "[1, 2, 3, 4]"
      ]
     },
     "execution_count": 11,
     "metadata": {},
     "output_type": "execute_result"
    }
   ],
   "source": [
    "JOB_DEST = \"../saved_data/fws_shuffled_10initial_test1_beta=100.csv\"\n",
    "fw_ids = pd.read_csv(JOB_DEST, header = None).values.tolist()[0]\n",
    "\n",
    "all_done = monitor(fw_ids)\n",
    "print(f\"submitted {len(fw_ids)} jobs. sucessfully completed {sum(all_done)}.\")\n",
    "for done, fw_id in zip(all_done, fw_ids):\n",
    "    if done:\n",
    "        print(f\"{fw_id} done\")\n",
    "    else:\n",
    "        print(f\"{fw_id} failed\")\n",
    "\n",
    "get_results(all_done, fw_ids, from_cloud=from_cloud)\n"
   ]
  },
  {
   "cell_type": "code",
   "execution_count": 45,
   "id": "25eccdd4",
   "metadata": {},
   "outputs": [
    {
     "data": {
      "text/plain": [
       "[5135, 5136, 5137, 5138]"
      ]
     },
     "execution_count": 45,
     "metadata": {},
     "output_type": "execute_result"
    }
   ],
   "source": [
    "LOG_DEST = \"../saved_data/fws_shuffled_10initial_KS_lin_beta=100.csv\"\n",
    "\n",
    "df=pd.read_csv(LOG_DEST, header = None).values.tolist()[0]\n",
    "df"
   ]
  },
  {
   "cell_type": "code",
   "execution_count": 44,
   "id": "ef11a67d",
   "metadata": {},
   "outputs": [
    {
     "data": {
      "text/html": [
       "<div>\n",
       "<style scoped>\n",
       "    .dataframe tbody tr th:only-of-type {\n",
       "        vertical-align: middle;\n",
       "    }\n",
       "\n",
       "    .dataframe tbody tr th {\n",
       "        vertical-align: top;\n",
       "    }\n",
       "\n",
       "    .dataframe thead th {\n",
       "        text-align: right;\n",
       "    }\n",
       "</style>\n",
       "<table border=\"1\" class=\"dataframe\">\n",
       "  <thead>\n",
       "    <tr style=\"text-align: right;\">\n",
       "      <th></th>\n",
       "      <th>0</th>\n",
       "      <th>1</th>\n",
       "      <th>2</th>\n",
       "      <th>3</th>\n",
       "    </tr>\n",
       "  </thead>\n",
       "  <tbody>\n",
       "    <tr>\n",
       "      <th>0</th>\n",
       "      <td>5135</td>\n",
       "      <td>5136</td>\n",
       "      <td>5137</td>\n",
       "      <td>5138</td>\n",
       "    </tr>\n",
       "  </tbody>\n",
       "</table>\n",
       "</div>"
      ],
      "text/plain": [
       "      0     1     2     3\n",
       "0  5135  5136  5137  5138"
      ]
     },
     "execution_count": 44,
     "metadata": {},
     "output_type": "execute_result"
    }
   ],
   "source": [
    "fws = [5135,5136,5137,5138]\n",
    "df = pd.DataFrame([fws]) \n",
    "df.to_csv(LOG_DEST,header = None, index=False)\n",
    "df"
   ]
  },
  {
   "cell_type": "code",
   "execution_count": 34,
   "id": "beae8aba",
   "metadata": {},
   "outputs": [],
   "source": [
    "FLAG =[1]\n",
    "df = pd.DataFrame(FLAG)\n",
    "df.to_csv(FLAG_DEST,header = None, index=False)"
   ]
  }
 ],
 "metadata": {
  "kernelspec": {
   "display_name": "Python 3 (ipykernel)",
   "language": "python",
   "name": "python3"
  },
  "language_info": {
   "codemirror_mode": {
    "name": "ipython",
    "version": 3
   },
   "file_extension": ".py",
   "mimetype": "text/x-python",
   "name": "python",
   "nbconvert_exporter": "python",
   "pygments_lexer": "ipython3",
   "version": "3.9.7"
  }
 },
 "nbformat": 4,
 "nbformat_minor": 5
}
