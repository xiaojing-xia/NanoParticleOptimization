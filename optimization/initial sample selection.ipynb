{
 "cells": [
  {
   "cell_type": "markdown",
   "id": "42902ab7",
   "metadata": {},
   "source": [
    "# shuffle and select initial data"
   ]
  },
  {
   "cell_type": "code",
   "execution_count": null,
   "id": "e379a22e",
   "metadata": {},
   "outputs": [],
   "source": [
    "import pandas as pd\n",
    "df = pd.read_csv('../saved_data/simulation_log.csv', sep=',')\n",
    "df_shuff = df.sample(n=10)\n",
    "df_shuff"
   ]
  },
  {
   "cell_type": "code",
   "execution_count": null,
   "id": "77415f6b",
   "metadata": {},
   "outputs": [],
   "source": [
    "# K-S sampling\n",
    "def kennardstonealgorithm(x_variables, k):\n",
    "    x_variables = np.array(x_variables)\n",
    "    original_x = x_variables\n",
    "    distance_to_average = ((x_variables - np.tile(x_variables.mean(axis=0), (x_variables.shape[0], 1))) ** 2).sum(axis=1)\n",
    "    max_distance_sample_number = np.where(distance_to_average == np.max(distance_to_average))\n",
    "    max_distance_sample_number = max_distance_sample_number[0][0]\n",
    "    selected_sample_numbers = list()\n",
    "    selected_sample_numbers.append(max_distance_sample_number)\n",
    "    remaining_sample_numbers = np.arange(0, x_variables.shape[0], 1)\n",
    "    x_variables = np.delete(x_variables, selected_sample_numbers, 0)\n",
    "    remaining_sample_numbers = np.delete(remaining_sample_numbers, selected_sample_numbers, 0)\n",
    "    for iteration in range(1, k):\n",
    "        selected_samples = original_x[selected_sample_numbers, :]\n",
    "        min_distance_to_selected_samples = list()\n",
    "        for min_distance_calculation_number in range(0, x_variables.shape[0]):\n",
    "            distance_to_selected_samples = ((selected_samples - np.tile(x_variables[min_distance_calculation_number, :],\n",
    "                                                                        (selected_samples.shape[0], 1))) ** 2).sum(axis=1)\n",
    "            min_distance_to_selected_samples.append(np.min(distance_to_selected_samples))\n",
    "        max_distance_sample_number = np.where(\n",
    "            min_distance_to_selected_samples == np.max(min_distance_to_selected_samples))\n",
    "        max_distance_sample_number = max_distance_sample_number[0][0]\n",
    "        selected_sample_numbers.append(remaining_sample_numbers[max_distance_sample_number])\n",
    "        x_variables = np.delete(x_variables, max_distance_sample_number, 0)\n",
    "        remaining_sample_numbers = np.delete(remaining_sample_numbers, max_distance_sample_number, 0)\n",
    "\n",
    "    return selected_sample_numbers, remaining_sample_numbers"
   ]
  },
  {
   "cell_type": "code",
   "execution_count": null,
   "id": "775748fc",
   "metadata": {},
   "outputs": [],
   "source": [
    "# log scale\n",
    "number_of_selected_samples = 10\n",
    "\n",
    "df = pd.read_csv('../saved_data/simulation_log.csv', sep=',')\n",
    "df = df[(df.yb_2 != 0) & (df.er_2 != 0)]\n",
    "df_select = df[(df.yb_2 != 0) & (df.er_2 != 0)]\n",
    "df_select.yb_2 = np.log(df.yb_2)\n",
    "df_select.er_2 = np.log(df.er_2)\n",
    "X = df_select[['yb_1','er_1','yb_2','er_2','radius']].to_numpy()\n",
    "autoscaled_X = (X - X.mean(axis=0)) / X.std(axis=0, ddof=1)\n",
    "autoscaled_X\n"
   ]
  },
  {
   "cell_type": "code",
   "execution_count": null,
   "id": "8ce63b89",
   "metadata": {},
   "outputs": [],
   "source": [
    "# linear scale\n",
    "number_of_selected_samples = 40\n",
    "\n",
    "# generate and standardize samples for demonstration\n",
    "df = pd.read_csv('../saved_data/simulation_log.csv', sep=',')\n",
    "df = df[(df.yb_2 != 0) & (df.er_2 != 0)]\n",
    "df = df[(df.yb_1 != 0) & (df.er_1 != 0)]\n",
    "X = df[['yb_1','er_1','yb_2','er_2','radius']].to_numpy()\n",
    "autoscaled_X = (X - X.mean(axis=0)) / X.std(axis=0, ddof=1)\n",
    "autoscaled_X\n"
   ]
  },
  {
   "cell_type": "code",
   "execution_count": null,
   "id": "471d877a",
   "metadata": {},
   "outputs": [],
   "source": [
    "selected_sample_numbers, remaining_sample_numbers = kennardstonealgorithm(\n",
    "    autoscaled_X, number_of_selected_samples)"
   ]
  },
  {
   "cell_type": "code",
   "execution_count": null,
   "id": "4bb79f76",
   "metadata": {},
   "outputs": [],
   "source": [
    "print(\"selected sample numbers\")\n",
    "print(selected_sample_numbers)\n",
    "print(\"---\")\n",
    "print(\"remaining sample numbers\")\n",
    "print(remaining_sample_numbers)\n",
    "\n",
    "print(\"selected sample numbers\")\n",
    "print(selected_sample_numbers)\n",
    "print(\"---\")\n",
    "print(\"remaining sample numbers\")\n",
    "print(remaining_sample_numbers)\n",
    "# plot samples\n",
    "plt.figure()\n",
    "plt.scatter(autoscaled_X[:, 0], autoscaled_X[:, 1], label=\"all samples\")\n",
    "plt.scatter(autoscaled_X[selected_sample_numbers, 0], autoscaled_X[selected_sample_numbers, 1], marker=\"*\",\n",
    "            label=\"all samples\")\n",
    "plt.xlabel(\"x1\")\n",
    "plt.ylabel(\"x2\")\n",
    "plt.legend(loc='upper right')\n",
    "plt.show()"
   ]
  },
  {
   "cell_type": "code",
   "execution_count": null,
   "id": "b7a82fbf",
   "metadata": {},
   "outputs": [],
   "source": [
    "selected = df.iloc[selected_sample_numbers]\n",
    "#selected.to_csv('UV_log_KS_40initial_linscale.csv', index=False)\n",
    "\n",
    "init = selected\n",
    "threedee = plt.figure().gca(projection='3d')\n",
    "threedee.scatter(init.yb_2, init.er_2, init.radius)\n",
    "threedee.set_xlim([0,1])\n",
    "threedee.set_ylim([0,1])\n",
    "threedee.set_zlim([5,34])\n",
    "threedee.set_xlabel('yb_2')\n",
    "threedee.set_ylabel('er_2')\n",
    "threedee.set_zlabel('radius')\n",
    "plt.show()"
   ]
  }
 ],
 "metadata": {
  "kernelspec": {
   "display_name": "Python 3 (ipykernel)",
   "language": "python",
   "name": "python3"
  },
  "language_info": {
   "codemirror_mode": {
    "name": "ipython",
    "version": 3
   },
   "file_extension": ".py",
   "mimetype": "text/x-python",
   "name": "python",
   "nbconvert_exporter": "python",
   "pygments_lexer": "ipython3",
   "version": "3.9.7"
  }
 },
 "nbformat": 4,
 "nbformat_minor": 5
}
